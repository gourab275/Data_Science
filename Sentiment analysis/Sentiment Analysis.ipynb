{
 "cells": [
  {
   "cell_type": "code",
   "execution_count": 90,
   "id": "feea776d",
   "metadata": {},
   "outputs": [],
   "source": [
    "import pandas as pd\n",
    "import numpy as np\n",
    "import seaborn as sns\n",
    "from sklearn.ensemble import RandomForestClassifier\n",
    "import neattext.functions as nfx\n",
    "from sklearn.linear_model import LogisticRegression\n",
    "from sklearn.naive_bayes import MultinomialNB\n",
    "from sklearn.feature_extraction.text import CountVectorizer,TfidfVectorizer\n",
    "from sklearn.model_selection import train_test_split\n",
    "from sklearn.metrics import accuracy_score,classification_report,confusion_matrix\n",
    "import catboost as cb\n",
    "import warnings\n",
    "warnings.filterwarnings('ignore')"
   ]
  },
  {
   "cell_type": "code",
   "execution_count": 105,
   "id": "62261693",
   "metadata": {},
   "outputs": [
    {
     "data": {
      "text/plain": [
       "joy         11045\n",
       "sadness      6722\n",
       "fear         5410\n",
       "anger        4297\n",
       "surprise     4062\n",
       "neutral      2254\n",
       "disgust       856\n",
       "shame         146\n",
       "Name: Emotion, dtype: int64"
      ]
     },
     "execution_count": 105,
     "metadata": {},
     "output_type": "execute_result"
    }
   ],
   "source": [
    "df1 = pd.read_csv(r\"C:\\Users\\91700\\Desktop\\sentiment\\emotion_dataset_2.csv\")\n",
    "df1['Emotion'].value_counts()"
   ]
  },
  {
   "cell_type": "code",
   "execution_count": 5,
   "id": "f5996338",
   "metadata": {},
   "outputs": [],
   "source": [
    "df = pd.read_csv(r\"C:\\Users\\91700\\Desktop\\sentiment\\emotion_dataset_raw.csv\")"
   ]
  },
  {
   "cell_type": "code",
   "execution_count": 6,
   "id": "df2db1d7",
   "metadata": {},
   "outputs": [
    {
     "data": {
      "text/html": [
       "<div>\n",
       "<style scoped>\n",
       "    .dataframe tbody tr th:only-of-type {\n",
       "        vertical-align: middle;\n",
       "    }\n",
       "\n",
       "    .dataframe tbody tr th {\n",
       "        vertical-align: top;\n",
       "    }\n",
       "\n",
       "    .dataframe thead th {\n",
       "        text-align: right;\n",
       "    }\n",
       "</style>\n",
       "<table border=\"1\" class=\"dataframe\">\n",
       "  <thead>\n",
       "    <tr style=\"text-align: right;\">\n",
       "      <th></th>\n",
       "      <th>Emotion</th>\n",
       "      <th>Text</th>\n",
       "    </tr>\n",
       "  </thead>\n",
       "  <tbody>\n",
       "    <tr>\n",
       "      <th>0</th>\n",
       "      <td>neutral</td>\n",
       "      <td>Why ?</td>\n",
       "    </tr>\n",
       "    <tr>\n",
       "      <th>1</th>\n",
       "      <td>joy</td>\n",
       "      <td>Sage Act upgrade on my to do list for tommorow.</td>\n",
       "    </tr>\n",
       "    <tr>\n",
       "      <th>2</th>\n",
       "      <td>sadness</td>\n",
       "      <td>ON THE WAY TO MY HOMEGIRL BABY FUNERAL!!! MAN ...</td>\n",
       "    </tr>\n",
       "    <tr>\n",
       "      <th>3</th>\n",
       "      <td>joy</td>\n",
       "      <td>Such an eye ! The true hazel eye-and so brill...</td>\n",
       "    </tr>\n",
       "    <tr>\n",
       "      <th>4</th>\n",
       "      <td>joy</td>\n",
       "      <td>@Iluvmiasantos ugh babe.. hugggzzz for u .!  b...</td>\n",
       "    </tr>\n",
       "  </tbody>\n",
       "</table>\n",
       "</div>"
      ],
      "text/plain": [
       "   Emotion                                               Text\n",
       "0  neutral                                             Why ? \n",
       "1      joy    Sage Act upgrade on my to do list for tommorow.\n",
       "2  sadness  ON THE WAY TO MY HOMEGIRL BABY FUNERAL!!! MAN ...\n",
       "3      joy   Such an eye ! The true hazel eye-and so brill...\n",
       "4      joy  @Iluvmiasantos ugh babe.. hugggzzz for u .!  b..."
      ]
     },
     "execution_count": 6,
     "metadata": {},
     "output_type": "execute_result"
    }
   ],
   "source": [
    "df.head()"
   ]
  },
  {
   "cell_type": "code",
   "execution_count": 7,
   "id": "edbdaa3d",
   "metadata": {},
   "outputs": [
    {
     "name": "stdout",
     "output_type": "stream",
     "text": [
      "<class 'pandas.core.frame.DataFrame'>\n",
      "RangeIndex: 34792 entries, 0 to 34791\n",
      "Data columns (total 2 columns):\n",
      " #   Column   Non-Null Count  Dtype \n",
      "---  ------   --------------  ----- \n",
      " 0   Emotion  34792 non-null  object\n",
      " 1   Text     34792 non-null  object\n",
      "dtypes: object(2)\n",
      "memory usage: 543.8+ KB\n"
     ]
    }
   ],
   "source": [
    "df.info()"
   ]
  },
  {
   "cell_type": "code",
   "execution_count": 8,
   "id": "ce79f02f",
   "metadata": {},
   "outputs": [
    {
     "data": {
      "text/plain": [
       "joy         11045\n",
       "sadness      6722\n",
       "fear         5410\n",
       "anger        4297\n",
       "surprise     4062\n",
       "neutral      2254\n",
       "disgust       856\n",
       "shame         146\n",
       "Name: Emotion, dtype: int64"
      ]
     },
     "execution_count": 8,
     "metadata": {},
     "output_type": "execute_result"
    }
   ],
   "source": [
    "df['Emotion'].value_counts()"
   ]
  },
  {
   "cell_type": "code",
   "execution_count": 147,
   "id": "64d52171",
   "metadata": {},
   "outputs": [],
   "source": [
    "x1 = df[df['Emotion'] == 'sadness'].sample(4000)\n",
    "x2 = df[df['Emotion'] == 'fear']\n",
    "x3 = df[df['Emotion'] == 'anger']\n",
    "x4 = df[df['Emotion'] == 'surprise']\n",
    "x5 = df[df['Emotion'] == 'neutral'].sample(4000,replace=True)\n",
    "x6 = df[df['Emotion'] == 'disgust'].sample(3000,replace=True)\n",
    "x7 = df[df['Emotion'] == 'joy'].sample(4000)"
   ]
  },
  {
   "cell_type": "code",
   "execution_count": 148,
   "id": "2cf727cc",
   "metadata": {},
   "outputs": [
    {
     "data": {
      "text/plain": [
       "pandas.core.frame.DataFrame"
      ]
     },
     "execution_count": 148,
     "metadata": {},
     "output_type": "execute_result"
    }
   ],
   "source": [
    "type(x6)"
   ]
  },
  {
   "cell_type": "code",
   "execution_count": 149,
   "id": "30fda91b",
   "metadata": {},
   "outputs": [],
   "source": [
    "new_df = pd.concat([x1,x2,x3,x4,x5,x6,x7])"
   ]
  },
  {
   "cell_type": "code",
   "execution_count": 150,
   "id": "8d688d6f",
   "metadata": {},
   "outputs": [
    {
     "data": {
      "text/plain": [
       "(27058, 3)"
      ]
     },
     "execution_count": 150,
     "metadata": {},
     "output_type": "execute_result"
    }
   ],
   "source": [
    "new_df.shape"
   ]
  },
  {
   "cell_type": "code",
   "execution_count": 152,
   "id": "71ef6a7a",
   "metadata": {},
   "outputs": [
    {
     "data": {
      "text/plain": [
       "fear        4266\n",
       "surprise    4015\n",
       "sadness     4000\n",
       "neutral     4000\n",
       "joy         4000\n",
       "anger       3777\n",
       "disgust     3000\n",
       "Name: Emotion, dtype: int64"
      ]
     },
     "execution_count": 152,
     "metadata": {},
     "output_type": "execute_result"
    }
   ],
   "source": [
    "new_df['Emotion'].value_counts()"
   ]
  },
  {
   "cell_type": "code",
   "execution_count": 153,
   "id": "c9cb51bb",
   "metadata": {},
   "outputs": [
    {
     "data": {
      "text/plain": [
       "<AxesSubplot: xlabel='Emotion', ylabel='count'>"
      ]
     },
     "execution_count": 153,
     "metadata": {},
     "output_type": "execute_result"
    },
    {
     "data": {
      "image/png": "[encoded data removed]",
      "text/plain": [
       "<Figure size 640x480 with 1 Axes>"
      ]
     },
     "metadata": {},
     "output_type": "display_data"
    }
   ],
   "source": [
    "sns.countplot(x= 'Emotion',data = new_df)"
   ]
  },
  {
   "cell_type": "code",
   "execution_count": 49,
   "id": "01e4d109",
   "metadata": {},
   "outputs": [],
   "source": [
    "# dir(nfx)"
   ]
  },
  {
   "cell_type": "code",
   "execution_count": 154,
   "id": "61fbed9a",
   "metadata": {},
   "outputs": [],
   "source": [
    "new_df['Clean_text'] = df['Text'].apply(nfx.remove_userhandles)\n",
    "\n",
    "new_df['Clean_text'] = new_df['Clean_text'].apply(nfx.remove_stopwords)\n",
    "\n",
    "new_df['Clean_text'] = new_df['Clean_text'].apply(nfx.remove_puncts)\n",
    "\n",
    "new_df['Clean_text'] = new_df['Clean_text'].apply(nfx.remove_special_characters)"
   ]
  },
  {
   "cell_type": "code",
   "execution_count": 157,
   "id": "74a51361",
   "metadata": {},
   "outputs": [
    {
     "data": {
      "text/plain": [
       "Emotion       0\n",
       "Text          0\n",
       "Clean_text    0\n",
       "dtype: int64"
      ]
     },
     "execution_count": 157,
     "metadata": {},
     "output_type": "execute_result"
    }
   ],
   "source": [
    "new_df.isna().sum()"
   ]
  },
  {
   "cell_type": "code",
   "execution_count": 159,
   "id": "bd8b713c",
   "metadata": {},
   "outputs": [
    {
     "data": {
      "text/html": [
       "<div>\n",
       "<style scoped>\n",
       "    .dataframe tbody tr th:only-of-type {\n",
       "        vertical-align: middle;\n",
       "    }\n",
       "\n",
       "    .dataframe tbody tr th {\n",
       "        vertical-align: top;\n",
       "    }\n",
       "\n",
       "    .dataframe thead th {\n",
       "        text-align: right;\n",
       "    }\n",
       "</style>\n",
       "<table border=\"1\" class=\"dataframe\">\n",
       "  <thead>\n",
       "    <tr style=\"text-align: right;\">\n",
       "      <th></th>\n",
       "      <th>Emotion</th>\n",
       "      <th>Text</th>\n",
       "      <th>Clean_text</th>\n",
       "    </tr>\n",
       "  </thead>\n",
       "  <tbody>\n",
       "    <tr>\n",
       "      <th>14174</th>\n",
       "      <td>neutral</td>\n",
       "      <td>It's scary .</td>\n",
       "      <td>scary</td>\n",
       "    </tr>\n",
       "    <tr>\n",
       "      <th>14174</th>\n",
       "      <td>neutral</td>\n",
       "      <td>It's scary .</td>\n",
       "      <td>scary</td>\n",
       "    </tr>\n",
       "    <tr>\n",
       "      <th>29111</th>\n",
       "      <td>neutral</td>\n",
       "      <td>The works ?</td>\n",
       "      <td>works</td>\n",
       "    </tr>\n",
       "    <tr>\n",
       "      <th>23574</th>\n",
       "      <td>neutral</td>\n",
       "      <td>Hey !</td>\n",
       "      <td>Hey</td>\n",
       "    </tr>\n",
       "    <tr>\n",
       "      <th>23560</th>\n",
       "      <td>neutral</td>\n",
       "      <td>Yes , why ?</td>\n",
       "      <td>Yes</td>\n",
       "    </tr>\n",
       "  </tbody>\n",
       "</table>\n",
       "</div>"
      ],
      "text/plain": [
       "       Emotion            Text Clean_text\n",
       "14174  neutral   It's scary .      scary \n",
       "14174  neutral   It's scary .      scary \n",
       "29111  neutral    The works ?      works \n",
       "23574  neutral          Hey !        Hey \n",
       "23560  neutral    Yes , why ?       Yes  "
      ]
     },
     "execution_count": 159,
     "metadata": {},
     "output_type": "execute_result"
    }
   ],
   "source": [
    "new_df[new_df.duplicated()].head()"
   ]
  },
  {
   "cell_type": "code",
   "execution_count": 162,
   "id": "39476a09",
   "metadata": {},
   "outputs": [],
   "source": [
    "new_df = new_df.drop_duplicates(keep='first')"
   ]
  },
  {
   "cell_type": "code",
   "execution_count": 163,
   "id": "5aa0d220",
   "metadata": {},
   "outputs": [
    {
     "data": {
      "text/plain": [
       "(22265, 3)"
      ]
     },
     "execution_count": 163,
     "metadata": {},
     "output_type": "execute_result"
    }
   ],
   "source": [
    "new_df.shape"
   ]
  },
  {
   "cell_type": "code",
   "execution_count": 164,
   "id": "3d80ddd3",
   "metadata": {},
   "outputs": [],
   "source": [
    "x = new_df['Clean_text']\n",
    "y = new_df['Emotion']"
   ]
  },
  {
   "cell_type": "code",
   "execution_count": 187,
   "id": "fb80abd1",
   "metadata": {},
   "outputs": [],
   "source": [
    "x_train,x_test,y_train,y_test = train_test_split(x,y,test_size = 0.4,random_state = 42)"
   ]
  },
  {
   "cell_type": "code",
   "execution_count": 188,
   "id": "28668d48",
   "metadata": {},
   "outputs": [],
   "source": [
    "from sklearn.pipeline import Pipeline"
   ]
  },
  {
   "cell_type": "code",
   "execution_count": 189,
   "id": "7f4c3260",
   "metadata": {},
   "outputs": [],
   "source": [
    "pipe_lr = Pipeline(steps = \n",
    "                  [('cv',CountVectorizer()),\n",
    "                   ('lr',LogisticRegression())\n",
    "                  ])"
   ]
  },
  {
   "cell_type": "code",
   "execution_count": 190,
   "id": "e4f17285",
   "metadata": {},
   "outputs": [],
   "source": [
    "pipe_lr2 = Pipeline(steps = \n",
    "                  [('cv',CountVectorizer()),\n",
    "                   ('cat',cb.CatBoostClassifier(iterations=50))\n",
    "                  ])\n",
    "\n"
   ]
  },
  {
   "cell_type": "code",
   "execution_count": 191,
   "id": "5d5e737a",
   "metadata": {},
   "outputs": [],
   "source": [
    "pipe_lr3 = Pipeline(steps = \n",
    "                  [('cv',CountVectorizer()),\n",
    "                   ('rd',RandomForestClassifier())\n",
    "                  ])\n"
   ]
  },
  {
   "cell_type": "code",
   "execution_count": 192,
   "id": "94542af0",
   "metadata": {},
   "outputs": [],
   "source": [
    "pipe_lr1 = Pipeline(steps = \n",
    "                  [('tf',TfidfVectorizer()),\n",
    "                   ('lr',LogisticRegression())\n",
    "                  ])"
   ]
  },
  {
   "cell_type": "code",
   "execution_count": 195,
   "id": "1c9270f0",
   "metadata": {},
   "outputs": [
    {
     "data": {
      "text/plain": [
       "0.5401976195823041"
      ]
     },
     "execution_count": 195,
     "metadata": {},
     "output_type": "execute_result"
    }
   ],
   "source": [
    "pipe_lr.fit(x_train,y_train)\n",
    "\n",
    "\n",
    "pipe_lr.score(x_test,y_test)"
   ]
  },
  {
   "cell_type": "code",
   "execution_count": 176,
   "id": "4eea8e42",
   "metadata": {},
   "outputs": [
    {
     "data": {
      "text/plain": [
       "0.5374251497005988"
      ]
     },
     "execution_count": 176,
     "metadata": {},
     "output_type": "execute_result"
    }
   ],
   "source": [
    "pipe_lr1.fit(x_train,y_train)\n",
    "\n",
    "pipe_lr1.score(x_test,y_test)"
   ]
  },
  {
   "cell_type": "code",
   "execution_count": 177,
   "id": "37014cff",
   "metadata": {},
   "outputs": [
    {
     "data": {
      "text/plain": [
       "0.4847305389221557"
      ]
     },
     "execution_count": 177,
     "metadata": {},
     "output_type": "execute_result"
    }
   ],
   "source": [
    "pipe_lr3.fit(x_train,y_train)\n",
    "\n",
    "pipe_lr3.score(x_test,y_test)"
   ]
  },
  {
   "cell_type": "code",
   "execution_count": 178,
   "id": "851663f3",
   "metadata": {},
   "outputs": [],
   "source": [
    "ex1 = \"My name is khan and I am not a terrorist\"\n",
    "ex2 = \"I love my mother so much\"\n",
    "ex3 = \"I am ashamed of it.\"\n",
    "ex4 = \"you are a bad man\""
   ]
  },
  {
   "cell_type": "code",
   "execution_count": 206,
   "id": "7e97ec6e",
   "metadata": {},
   "outputs": [
    {
     "name": "stdout",
     "output_type": "stream",
     "text": [
      "['sadness']\n",
      "['fear']\n",
      "['fear']\n",
      "['joy']\n"
     ]
    }
   ],
   "source": [
    "print(pipe_lr.predict([ex4]))\n",
    "print(pipe_lr.predict([ex1]))\n",
    "print(pipe_lr.predict([ex3]))\n",
    "print(pipe_lr.predict([ex2]))"
   ]
  },
  {
   "cell_type": "code",
   "execution_count": 181,
   "id": "3cb46a64",
   "metadata": {},
   "outputs": [
    {
     "data": {
      "text/plain": [
       "array([[0.08360155, 0.05588517, 0.34094405, 0.26389438, 0.03514551,\n",
       "        0.08319492, 0.13733442]])"
      ]
     },
     "execution_count": 181,
     "metadata": {},
     "output_type": "execute_result"
    }
   ],
   "source": [
    "pipe_lr.predict_proba([ex1])"
   ]
  },
  {
   "cell_type": "code",
   "execution_count": 180,
   "id": "9b357b6a",
   "metadata": {},
   "outputs": [
    {
     "data": {
      "text/plain": [
       "array(['anger', 'disgust', 'fear', 'joy', 'neutral', 'sadness',\n",
       "       'surprise'], dtype=object)"
      ]
     },
     "execution_count": 180,
     "metadata": {},
     "output_type": "execute_result"
    }
   ],
   "source": [
    "pipe_lr.classes_"
   ]
  },
  {
   "cell_type": "code",
   "execution_count": 196,
   "id": "33d146e4",
   "metadata": {},
   "outputs": [],
   "source": [
    "import pickle\n"
   ]
  },
  {
   "cell_type": "code",
   "execution_count": 197,
   "id": "93f242f7",
   "metadata": {},
   "outputs": [],
   "source": [
    "\n",
    "\n",
    "pickle.dump(pipe_lr, open('lr.pkl', 'wb'))\n"
   ]
  },
  {
   "cell_type": "code",
   "execution_count": null,
   "id": "c269d728",
   "metadata": {},
   "outputs": [],
   "source": []
  }
 ],
 "metadata": {
  "kernelspec": {
   "display_name": "Python 3 (ipykernel)",
   "language": "python",
   "name": "python3"
  },
  "language_info": {
   "codemirror_mode": {
    "name": "ipython",
    "version": 3
   },
   "file_extension": ".py",
   "mimetype": "text/x-python",
   "name": "python",
   "nbconvert_exporter": "python",
   "pygments_lexer": "ipython3",
   "version": "3.9.13"
  }
 },
 "nbformat": 4,
 "nbformat_minor": 5
}
